{
 "cells": [
  {
   "cell_type": "code",
   "execution_count": 11,
   "metadata": {},
   "outputs": [],
   "source": [
    "from moviepy.editor import VideoFileClip\n",
    "import moviepy.video.fx.all"
   ]
  },
  {
   "cell_type": "code",
   "execution_count": 12,
   "metadata": {},
   "outputs": [],
   "source": [
    "clip = VideoFileClip('movietest.mp4')"
   ]
  },
  {
   "cell_type": "code",
   "execution_count": 24,
   "metadata": {},
   "outputs": [
    {
     "name": "stderr",
     "output_type": "stream",
     "text": [
      "100%|██████████| 1350/1350 [00:01<00:00, 1224.11it/s]\n",
      "100%|█████████▉| 1836/1837 [00:02<00:00, 834.51it/s]\n"
     ]
    },
    {
     "ename": "ValueError",
     "evalue": "The duration of video __temp__.mp4 (61.2) exceeds the 'max_duration' attribute. You can increase 'max_duration', but note that embedding large videos may take all the memory away !",
     "output_type": "error",
     "traceback": [
      "\u001b[0;31m---------------------------------------------------------------------------\u001b[0m",
      "\u001b[0;31mValueError\u001b[0m                                Traceback (most recent call last)",
      "\u001b[0;32m<ipython-input-24-1e226c32acb7>\u001b[0m in \u001b[0;36m<module>\u001b[0;34m()\u001b[0m\n\u001b[0;32m----> 1\u001b[0;31m \u001b[0mclip\u001b[0m\u001b[0;34m.\u001b[0m\u001b[0mipython_display\u001b[0m\u001b[0;34m(\u001b[0m\u001b[0;34m)\u001b[0m\u001b[0;34m\u001b[0m\u001b[0m\n\u001b[0m",
      "\u001b[0;32m/anaconda3/lib/python3.6/site-packages/moviepy/video/io/html_tools.py\u001b[0m in \u001b[0;36mipython_display\u001b[0;34m(clip, filetype, maxduration, t, fps, rd_kwargs, center, **html_kwargs)\u001b[0m\n\u001b[1;32m    217\u001b[0m \u001b[0;34m\u001b[0m\u001b[0m\n\u001b[1;32m    218\u001b[0m     return HTML2(html_embed(clip, filetype=filetype, maxduration=maxduration,\n\u001b[0;32m--> 219\u001b[0;31m                 center=center, rd_kwargs=rd_kwargs, **html_kwargs))\n\u001b[0m",
      "\u001b[0;32m/anaconda3/lib/python3.6/site-packages/moviepy/video/io/html_tools.py\u001b[0m in \u001b[0;36mhtml_embed\u001b[0;34m(clip, filetype, maxduration, rd_kwargs, center, **html_kwargs)\u001b[0m\n\u001b[1;32m    105\u001b[0m \u001b[0;34m\u001b[0m\u001b[0m\n\u001b[1;32m    106\u001b[0m         return html_embed(filename, maxduration=maxduration, rd_kwargs=rd_kwargs,\n\u001b[0;32m--> 107\u001b[0;31m                            center=center, **html_kwargs)\n\u001b[0m\u001b[1;32m    108\u001b[0m \u001b[0;34m\u001b[0m\u001b[0m\n\u001b[1;32m    109\u001b[0m     \u001b[0mfilename\u001b[0m \u001b[0;34m=\u001b[0m \u001b[0mclip\u001b[0m\u001b[0;34m\u001b[0m\u001b[0m\n",
      "\u001b[0;32m/anaconda3/lib/python3.6/site-packages/moviepy/video/io/html_tools.py\u001b[0m in \u001b[0;36mhtml_embed\u001b[0;34m(clip, filetype, maxduration, rd_kwargs, center, **html_kwargs)\u001b[0m\n\u001b[1;32m    140\u001b[0m         \u001b[0;32mif\u001b[0m \u001b[0mduration\u001b[0m \u001b[0;34m>\u001b[0m \u001b[0mmaxduration\u001b[0m\u001b[0;34m:\u001b[0m\u001b[0;34m\u001b[0m\u001b[0m\n\u001b[1;32m    141\u001b[0m             raise ValueError(\"The duration of video %s (%.1f) exceeds the 'max_duration' \"%(filename, duration)+\n\u001b[0;32m--> 142\u001b[0;31m                              \u001b[0;34m\"attribute. You can increase 'max_duration', \"\u001b[0m\u001b[0;34m\u001b[0m\u001b[0m\n\u001b[0m\u001b[1;32m    143\u001b[0m                              \"but note that embedding large videos may take all the memory away !\")\n\u001b[1;32m    144\u001b[0m \u001b[0;34m\u001b[0m\u001b[0m\n",
      "\u001b[0;31mValueError\u001b[0m: The duration of video __temp__.mp4 (61.2) exceeds the 'max_duration' attribute. You can increase 'max_duration', but note that embedding large videos may take all the memory away !"
     ]
    }
   ],
   "source": [
    "clip.ipython_display()"
   ]
  },
  {
   "cell_type": "code",
   "execution_count": null,
   "metadata": {},
   "outputs": [],
   "source": []
  }
 ],
 "metadata": {
  "kernelspec": {
   "display_name": "Python 3",
   "language": "python",
   "name": "python3"
  },
  "language_info": {
   "codemirror_mode": {
    "name": "ipython",
    "version": 3
   },
   "file_extension": ".py",
   "mimetype": "text/x-python",
   "name": "python",
   "nbconvert_exporter": "python",
   "pygments_lexer": "ipython3",
   "version": "3.6.4"
  }
 },
 "nbformat": 4,
 "nbformat_minor": 2
}
